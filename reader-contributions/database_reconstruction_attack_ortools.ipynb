{
  "nbformat": 4,
  "nbformat_minor": 0,
  "metadata": {
    "colab": {
      "provenance": []
    },
    "kernelspec": {
      "name": "python3",
      "display_name": "Python 3"
    },
    "language_info": {
      "name": "python"
    }
  },
  "cells": [
    {
      "cell_type": "markdown",
      "source": [
        "# Database reconstruction attack demonstration\n",
        "\n",
        "David Colls, Sep 2022, MIT License\n",
        "\n",
        "Revisions prior to publishing May 2023\n",
        "\n",
        "🧮 This notebook demonstrates a database reconstruction attack; that it is possible to recreate individual rows of a database from summary statistics. It is inspired by this [paper](https://queue.acm.org/detail.cfm?id=3295691) on database reconstruction attacks. Note that the intent is of this notebook is not to compromise any private data, but to raise awareness of  the potential for privacy breaches due to reconstruction attacks.\n",
        "\n",
        "🧑‍🎓 This notebook was developed in parallel and collaboratively with Mitchell Lisle's [solution](https://github.com/kjam/practical-data-privacy/blob/main/database-reconstruction-attack.ipynb), which provides further documentation and is referenced in the book *Practical Data Privacy*. This notebook demonstrates that individual rows of a database may be reconstructed, even if only summary statistics are shared, by considering the constraints that the statistics place on possible values of the data.\n",
        "\n",
        "🖥 This notebook uses the CP-SAT constraint programming solver from [OR-Tools](https://developers.google.com/optimization)."
      ],
      "metadata": {
        "id": "3CCI5umPbIwW"
      }
    },
    {
      "cell_type": "markdown",
      "source": [
        "# Setup\n",
        "\n",
        "▶️ You can run this notebook as is in [Colab](https://colab.research.google.com/), or a [Jupyter](https://jupyter.org/) instance where the environment includes `pip` (see [pip installation instructions](https://pip.pypa.io/en/stable/installation/)).\n"
      ],
      "metadata": {
        "id": "YQww6x3vNxBX"
      }
    },
    {
      "cell_type": "markdown",
      "source": [
        "✔︎ Install ortools if not already in your environment"
      ],
      "metadata": {
        "id": "tmQs2zAt4y59"
      }
    },
    {
      "cell_type": "code",
      "source": [
        "import sys\n",
        "!{sys.executable} -m pip list | grep ortools || {sys.executable} -m pip install ortools"
      ],
      "metadata": {
        "colab": {
          "base_uri": "https://localhost:8080/"
        },
        "id": "GHr8_g3lEalV",
        "outputId": "4497261b-33a0-4b2b-eca3-990efcf7251f"
      },
      "execution_count": 1,
      "outputs": [
        {
          "output_type": "stream",
          "name": "stdout",
          "text": [
            "ortools                          9.6.2534\n"
          ]
        }
      ]
    },
    {
      "cell_type": "markdown",
      "source": [
        "✔︎ Import required modules"
      ],
      "metadata": {
        "id": "t2HXp5gS4qbB"
      }
    },
    {
      "cell_type": "code",
      "execution_count": 2,
      "metadata": {
        "id": "P4VvvqhHe5lH"
      },
      "outputs": [],
      "source": [
        "from ortools.sat.python import cp_model\n",
        "\n",
        "import itertools as it\n",
        "import numpy as np\n",
        "import pandas as pd\n",
        "from pydantic import BaseModel\n",
        "from typing import Optional"
      ]
    },
    {
      "cell_type": "markdown",
      "source": [
        "# Problem formulation\n",
        "\n",
        "This section briefly describes the problem. Please see [more detailed documentation](https://github.com/kjam/practical-data-privacy/blob/main/database-reconstruction-attack.ipynb) if required."
      ],
      "metadata": {
        "id": "hokWowRUuE7J"
      }
    },
    {
      "cell_type": "markdown",
      "source": [
        "## Background\n",
        "\n",
        "📋 Alice has conducted a survey asking each of 7 people the following 5 questions:\n",
        "1. What is your name? (String response)\n",
        "2. What is you age? (Integer response)\n",
        "3. Are you married? (Boolean response)\n",
        "4. Are you a smoker? (Boolean response)\n",
        "5. Are you employed? (Boolean response)\n",
        "\n",
        "🔒 She collects the data shown below, which she intends to keep private."
      ],
      "metadata": {
        "id": "QWnqmzNbqE0t"
      }
    },
    {
      "cell_type": "code",
      "source": [
        "database = pd.DataFrame([\n",
        "    (\"Sara Gray\", 8, False, False, False),\n",
        "    (\"Joseph Collins\", 18, False, True, True),\n",
        "    (\"Vincent Porter\", 24, False, False, True),\n",
        "    (\"Tiffany Brown\", 30, True, True, True),\n",
        "    (\"Brenda Small\", 36, True, False, False),\n",
        "    (\"Dr. Tina Ayala\", 66, True, False, False),\n",
        "    (\"Rodney Gonzalez\", 84, True, True, False)],\n",
        "    columns=(\"name\", \"age\", \"married\", \"smoker\", \"employed\")\n",
        ")\n",
        "\n",
        "database"
      ],
      "metadata": {
        "id": "pWCkCHWbfaUi",
        "colab": {
          "base_uri": "https://localhost:8080/",
          "height": 269
        },
        "outputId": "922f4281-6147-43f6-9569-334eecff73f3"
      },
      "execution_count": 3,
      "outputs": [
        {
          "output_type": "execute_result",
          "data": {
            "text/plain": [
              "              name  age  married  smoker  employed\n",
              "0        Sara Gray    8    False   False     False\n",
              "1   Joseph Collins   18    False    True      True\n",
              "2   Vincent Porter   24    False   False      True\n",
              "3    Tiffany Brown   30     True    True      True\n",
              "4     Brenda Small   36     True   False     False\n",
              "5   Dr. Tina Ayala   66     True   False     False\n",
              "6  Rodney Gonzalez   84     True    True     False"
            ],
            "text/html": [
              "\n",
              "\n",
              "  <div id=\"df-f5fb5a70-de32-49f0-a052-29bffca388da\">\n",
              "    <div class=\"colab-df-container\">\n",
              "      <div>\n",
              "<style scoped>\n",
              "    .dataframe tbody tr th:only-of-type {\n",
              "        vertical-align: middle;\n",
              "    }\n",
              "\n",
              "    .dataframe tbody tr th {\n",
              "        vertical-align: top;\n",
              "    }\n",
              "\n",
              "    .dataframe thead th {\n",
              "        text-align: right;\n",
              "    }\n",
              "</style>\n",
              "<table border=\"1\" class=\"dataframe\">\n",
              "  <thead>\n",
              "    <tr style=\"text-align: right;\">\n",
              "      <th></th>\n",
              "      <th>name</th>\n",
              "      <th>age</th>\n",
              "      <th>married</th>\n",
              "      <th>smoker</th>\n",
              "      <th>employed</th>\n",
              "    </tr>\n",
              "  </thead>\n",
              "  <tbody>\n",
              "    <tr>\n",
              "      <th>0</th>\n",
              "      <td>Sara Gray</td>\n",
              "      <td>8</td>\n",
              "      <td>False</td>\n",
              "      <td>False</td>\n",
              "      <td>False</td>\n",
              "    </tr>\n",
              "    <tr>\n",
              "      <th>1</th>\n",
              "      <td>Joseph Collins</td>\n",
              "      <td>18</td>\n",
              "      <td>False</td>\n",
              "      <td>True</td>\n",
              "      <td>True</td>\n",
              "    </tr>\n",
              "    <tr>\n",
              "      <th>2</th>\n",
              "      <td>Vincent Porter</td>\n",
              "      <td>24</td>\n",
              "      <td>False</td>\n",
              "      <td>False</td>\n",
              "      <td>True</td>\n",
              "    </tr>\n",
              "    <tr>\n",
              "      <th>3</th>\n",
              "      <td>Tiffany Brown</td>\n",
              "      <td>30</td>\n",
              "      <td>True</td>\n",
              "      <td>True</td>\n",
              "      <td>True</td>\n",
              "    </tr>\n",
              "    <tr>\n",
              "      <th>4</th>\n",
              "      <td>Brenda Small</td>\n",
              "      <td>36</td>\n",
              "      <td>True</td>\n",
              "      <td>False</td>\n",
              "      <td>False</td>\n",
              "    </tr>\n",
              "    <tr>\n",
              "      <th>5</th>\n",
              "      <td>Dr. Tina Ayala</td>\n",
              "      <td>66</td>\n",
              "      <td>True</td>\n",
              "      <td>False</td>\n",
              "      <td>False</td>\n",
              "    </tr>\n",
              "    <tr>\n",
              "      <th>6</th>\n",
              "      <td>Rodney Gonzalez</td>\n",
              "      <td>84</td>\n",
              "      <td>True</td>\n",
              "      <td>True</td>\n",
              "      <td>False</td>\n",
              "    </tr>\n",
              "  </tbody>\n",
              "</table>\n",
              "</div>\n",
              "      <button class=\"colab-df-convert\" onclick=\"convertToInteractive('df-f5fb5a70-de32-49f0-a052-29bffca388da')\"\n",
              "              title=\"Convert this dataframe to an interactive table.\"\n",
              "              style=\"display:none;\">\n",
              "\n",
              "  <svg xmlns=\"http://www.w3.org/2000/svg\" height=\"24px\"viewBox=\"0 0 24 24\"\n",
              "       width=\"24px\">\n",
              "    <path d=\"M0 0h24v24H0V0z\" fill=\"none\"/>\n",
              "    <path d=\"M18.56 5.44l.94 2.06.94-2.06 2.06-.94-2.06-.94-.94-2.06-.94 2.06-2.06.94zm-11 1L8.5 8.5l.94-2.06 2.06-.94-2.06-.94L8.5 2.5l-.94 2.06-2.06.94zm10 10l.94 2.06.94-2.06 2.06-.94-2.06-.94-.94-2.06-.94 2.06-2.06.94z\"/><path d=\"M17.41 7.96l-1.37-1.37c-.4-.4-.92-.59-1.43-.59-.52 0-1.04.2-1.43.59L10.3 9.45l-7.72 7.72c-.78.78-.78 2.05 0 2.83L4 21.41c.39.39.9.59 1.41.59.51 0 1.02-.2 1.41-.59l7.78-7.78 2.81-2.81c.8-.78.8-2.07 0-2.86zM5.41 20L4 18.59l7.72-7.72 1.47 1.35L5.41 20z\"/>\n",
              "  </svg>\n",
              "      </button>\n",
              "\n",
              "\n",
              "\n",
              "    <div id=\"df-bec15c6f-e99b-4139-9266-235730c3c7a5\">\n",
              "      <button class=\"colab-df-quickchart\" onclick=\"quickchart('df-bec15c6f-e99b-4139-9266-235730c3c7a5')\"\n",
              "              title=\"Suggest charts.\"\n",
              "              style=\"display:none;\">\n",
              "\n",
              "<svg xmlns=\"http://www.w3.org/2000/svg\" height=\"24px\"viewBox=\"0 0 24 24\"\n",
              "     width=\"24px\">\n",
              "    <g>\n",
              "        <path d=\"M19 3H5c-1.1 0-2 .9-2 2v14c0 1.1.9 2 2 2h14c1.1 0 2-.9 2-2V5c0-1.1-.9-2-2-2zM9 17H7v-7h2v7zm4 0h-2V7h2v10zm4 0h-2v-4h2v4z\"/>\n",
              "    </g>\n",
              "</svg>\n",
              "      </button>\n",
              "    </div>\n",
              "\n",
              "<style>\n",
              "  .colab-df-quickchart {\n",
              "    background-color: #E8F0FE;\n",
              "    border: none;\n",
              "    border-radius: 50%;\n",
              "    cursor: pointer;\n",
              "    display: none;\n",
              "    fill: #1967D2;\n",
              "    height: 32px;\n",
              "    padding: 0 0 0 0;\n",
              "    width: 32px;\n",
              "  }\n",
              "\n",
              "  .colab-df-quickchart:hover {\n",
              "    background-color: #E2EBFA;\n",
              "    box-shadow: 0px 1px 2px rgba(60, 64, 67, 0.3), 0px 1px 3px 1px rgba(60, 64, 67, 0.15);\n",
              "    fill: #174EA6;\n",
              "  }\n",
              "\n",
              "  [theme=dark] .colab-df-quickchart {\n",
              "    background-color: #3B4455;\n",
              "    fill: #D2E3FC;\n",
              "  }\n",
              "\n",
              "  [theme=dark] .colab-df-quickchart:hover {\n",
              "    background-color: #434B5C;\n",
              "    box-shadow: 0px 1px 3px 1px rgba(0, 0, 0, 0.15);\n",
              "    filter: drop-shadow(0px 1px 2px rgba(0, 0, 0, 0.3));\n",
              "    fill: #FFFFFF;\n",
              "  }\n",
              "</style>\n",
              "\n",
              "    <script>\n",
              "      async function quickchart(key) {\n",
              "        const containerElement = document.querySelector('#' + key);\n",
              "        const charts = await google.colab.kernel.invokeFunction(\n",
              "            'suggestCharts', [key], {});\n",
              "      }\n",
              "    </script>\n",
              "\n",
              "      <script>\n",
              "\n",
              "function displayQuickchartButton(domScope) {\n",
              "  let quickchartButtonEl =\n",
              "    domScope.querySelector('#df-bec15c6f-e99b-4139-9266-235730c3c7a5 button.colab-df-quickchart');\n",
              "  quickchartButtonEl.style.display =\n",
              "    google.colab.kernel.accessAllowed ? 'block' : 'none';\n",
              "}\n",
              "\n",
              "        displayQuickchartButton(document);\n",
              "      </script>\n",
              "      <style>\n",
              "    .colab-df-container {\n",
              "      display:flex;\n",
              "      flex-wrap:wrap;\n",
              "      gap: 12px;\n",
              "    }\n",
              "\n",
              "    .colab-df-convert {\n",
              "      background-color: #E8F0FE;\n",
              "      border: none;\n",
              "      border-radius: 50%;\n",
              "      cursor: pointer;\n",
              "      display: none;\n",
              "      fill: #1967D2;\n",
              "      height: 32px;\n",
              "      padding: 0 0 0 0;\n",
              "      width: 32px;\n",
              "    }\n",
              "\n",
              "    .colab-df-convert:hover {\n",
              "      background-color: #E2EBFA;\n",
              "      box-shadow: 0px 1px 2px rgba(60, 64, 67, 0.3), 0px 1px 3px 1px rgba(60, 64, 67, 0.15);\n",
              "      fill: #174EA6;\n",
              "    }\n",
              "\n",
              "    [theme=dark] .colab-df-convert {\n",
              "      background-color: #3B4455;\n",
              "      fill: #D2E3FC;\n",
              "    }\n",
              "\n",
              "    [theme=dark] .colab-df-convert:hover {\n",
              "      background-color: #434B5C;\n",
              "      box-shadow: 0px 1px 3px 1px rgba(0, 0, 0, 0.15);\n",
              "      filter: drop-shadow(0px 1px 2px rgba(0, 0, 0, 0.3));\n",
              "      fill: #FFFFFF;\n",
              "    }\n",
              "  </style>\n",
              "\n",
              "      <script>\n",
              "        const buttonEl =\n",
              "          document.querySelector('#df-f5fb5a70-de32-49f0-a052-29bffca388da button.colab-df-convert');\n",
              "        buttonEl.style.display =\n",
              "          google.colab.kernel.accessAllowed ? 'block' : 'none';\n",
              "\n",
              "        async function convertToInteractive(key) {\n",
              "          const element = document.querySelector('#df-f5fb5a70-de32-49f0-a052-29bffca388da');\n",
              "          const dataTable =\n",
              "            await google.colab.kernel.invokeFunction('convertToInteractive',\n",
              "                                                     [key], {});\n",
              "          if (!dataTable) return;\n",
              "\n",
              "          const docLinkHtml = 'Like what you see? Visit the ' +\n",
              "            '<a target=\"_blank\" href=https://colab.research.google.com/notebooks/data_table.ipynb>data table notebook</a>'\n",
              "            + ' to learn more about interactive tables.';\n",
              "          element.innerHTML = '';\n",
              "          dataTable['output_type'] = 'display_data';\n",
              "          await google.colab.output.renderOutput(dataTable, element);\n",
              "          const docLink = document.createElement('div');\n",
              "          docLink.innerHTML = docLinkHtml;\n",
              "          element.appendChild(docLink);\n",
              "        }\n",
              "      </script>\n",
              "    </div>\n",
              "  </div>\n"
            ]
          },
          "metadata": {},
          "execution_count": 3
        }
      ]
    },
    {
      "cell_type": "markdown",
      "source": [
        "📊 Alice does, however, define some statistics that she wants to share with other researchers. She will provide the count, median and mean age of cohorts based on classes such as \"smoker\"."
      ],
      "metadata": {
        "id": "HA10hH5RORx3"
      }
    },
    {
      "cell_type": "code",
      "source": [
        "# Each cohort includes some or all of the following information\n",
        "class Stat(BaseModel):\n",
        "    name: str\n",
        "    count: Optional[int]\n",
        "    median: Optional[int]\n",
        "    mean: Optional[int]\n",
        "    denom: Optional[int]  # divide mean by denom if defined to get rational mean\n",
        "\n",
        "# A number of cohorts are defined\n",
        "class BlockStats(BaseModel):\n",
        "    A1: Stat\n",
        "    A2: Stat\n",
        "    B2: Stat\n",
        "    C2: Stat\n",
        "    D2: Stat\n",
        "    A3: Stat\n",
        "    B3: Stat\n",
        "    A4: Stat\n",
        "\n",
        "# The statistics for the cohorts are caluclated and shared as follows\n",
        "stats = BlockStats(\n",
        "    A1=Stat(name=\"global_population\", count=7, median=30, mean=38),\n",
        "    A2=Stat(name=\"non_smoker\", count=4, median=30, mean=67, denom=2),\n",
        "    B2=Stat(name=\"smoker\", count=3, median=30, mean=44),\n",
        "    C2=Stat(name=\"unemployed\", count=4, median=51, mean=97, denom=2),\n",
        "    D2=Stat(name=\"employed\", count=3, median=24, mean=24),\n",
        "    A3=Stat(name=\"single_adults\", count=None, median=None, mean=None),\n",
        "    B3=Stat(name=\"married_adults\", count=4, median=51, mean=54),\n",
        "    A4=Stat(name=\"unemployed-non-smoker\", count=3, median=36, mean=110, denom=3)\n",
        ")\n",
        "\n",
        "pd.DataFrame(stats.dict()).transpose()"
      ],
      "metadata": {
        "colab": {
          "base_uri": "https://localhost:8080/",
          "height": 300
        },
        "id": "8JjAfdEvdT1v",
        "outputId": "92ca3383-dd83-44b9-bd7b-c3d338982e04"
      },
      "execution_count": 4,
      "outputs": [
        {
          "output_type": "execute_result",
          "data": {
            "text/plain": [
              "                     name count median  mean denom\n",
              "A1      global_population     7     30    38  None\n",
              "A2             non_smoker     4     30    67     2\n",
              "B2                 smoker     3     30    44  None\n",
              "C2             unemployed     4     51    97     2\n",
              "D2               employed     3     24    24  None\n",
              "A3          single_adults  None   None  None  None\n",
              "B3         married_adults     4     51    54  None\n",
              "A4  unemployed-non-smoker     3     36   110     3"
            ],
            "text/html": [
              "\n",
              "\n",
              "  <div id=\"df-9343bc54-2d52-4c9f-9ee2-87691fe608be\">\n",
              "    <div class=\"colab-df-container\">\n",
              "      <div>\n",
              "<style scoped>\n",
              "    .dataframe tbody tr th:only-of-type {\n",
              "        vertical-align: middle;\n",
              "    }\n",
              "\n",
              "    .dataframe tbody tr th {\n",
              "        vertical-align: top;\n",
              "    }\n",
              "\n",
              "    .dataframe thead th {\n",
              "        text-align: right;\n",
              "    }\n",
              "</style>\n",
              "<table border=\"1\" class=\"dataframe\">\n",
              "  <thead>\n",
              "    <tr style=\"text-align: right;\">\n",
              "      <th></th>\n",
              "      <th>name</th>\n",
              "      <th>count</th>\n",
              "      <th>median</th>\n",
              "      <th>mean</th>\n",
              "      <th>denom</th>\n",
              "    </tr>\n",
              "  </thead>\n",
              "  <tbody>\n",
              "    <tr>\n",
              "      <th>A1</th>\n",
              "      <td>global_population</td>\n",
              "      <td>7</td>\n",
              "      <td>30</td>\n",
              "      <td>38</td>\n",
              "      <td>None</td>\n",
              "    </tr>\n",
              "    <tr>\n",
              "      <th>A2</th>\n",
              "      <td>non_smoker</td>\n",
              "      <td>4</td>\n",
              "      <td>30</td>\n",
              "      <td>67</td>\n",
              "      <td>2</td>\n",
              "    </tr>\n",
              "    <tr>\n",
              "      <th>B2</th>\n",
              "      <td>smoker</td>\n",
              "      <td>3</td>\n",
              "      <td>30</td>\n",
              "      <td>44</td>\n",
              "      <td>None</td>\n",
              "    </tr>\n",
              "    <tr>\n",
              "      <th>C2</th>\n",
              "      <td>unemployed</td>\n",
              "      <td>4</td>\n",
              "      <td>51</td>\n",
              "      <td>97</td>\n",
              "      <td>2</td>\n",
              "    </tr>\n",
              "    <tr>\n",
              "      <th>D2</th>\n",
              "      <td>employed</td>\n",
              "      <td>3</td>\n",
              "      <td>24</td>\n",
              "      <td>24</td>\n",
              "      <td>None</td>\n",
              "    </tr>\n",
              "    <tr>\n",
              "      <th>A3</th>\n",
              "      <td>single_adults</td>\n",
              "      <td>None</td>\n",
              "      <td>None</td>\n",
              "      <td>None</td>\n",
              "      <td>None</td>\n",
              "    </tr>\n",
              "    <tr>\n",
              "      <th>B3</th>\n",
              "      <td>married_adults</td>\n",
              "      <td>4</td>\n",
              "      <td>51</td>\n",
              "      <td>54</td>\n",
              "      <td>None</td>\n",
              "    </tr>\n",
              "    <tr>\n",
              "      <th>A4</th>\n",
              "      <td>unemployed-non-smoker</td>\n",
              "      <td>3</td>\n",
              "      <td>36</td>\n",
              "      <td>110</td>\n",
              "      <td>3</td>\n",
              "    </tr>\n",
              "  </tbody>\n",
              "</table>\n",
              "</div>\n",
              "      <button class=\"colab-df-convert\" onclick=\"convertToInteractive('df-9343bc54-2d52-4c9f-9ee2-87691fe608be')\"\n",
              "              title=\"Convert this dataframe to an interactive table.\"\n",
              "              style=\"display:none;\">\n",
              "\n",
              "  <svg xmlns=\"http://www.w3.org/2000/svg\" height=\"24px\"viewBox=\"0 0 24 24\"\n",
              "       width=\"24px\">\n",
              "    <path d=\"M0 0h24v24H0V0z\" fill=\"none\"/>\n",
              "    <path d=\"M18.56 5.44l.94 2.06.94-2.06 2.06-.94-2.06-.94-.94-2.06-.94 2.06-2.06.94zm-11 1L8.5 8.5l.94-2.06 2.06-.94-2.06-.94L8.5 2.5l-.94 2.06-2.06.94zm10 10l.94 2.06.94-2.06 2.06-.94-2.06-.94-.94-2.06-.94 2.06-2.06.94z\"/><path d=\"M17.41 7.96l-1.37-1.37c-.4-.4-.92-.59-1.43-.59-.52 0-1.04.2-1.43.59L10.3 9.45l-7.72 7.72c-.78.78-.78 2.05 0 2.83L4 21.41c.39.39.9.59 1.41.59.51 0 1.02-.2 1.41-.59l7.78-7.78 2.81-2.81c.8-.78.8-2.07 0-2.86zM5.41 20L4 18.59l7.72-7.72 1.47 1.35L5.41 20z\"/>\n",
              "  </svg>\n",
              "      </button>\n",
              "\n",
              "\n",
              "\n",
              "    <div id=\"df-41701209-42b6-45e8-aed8-c8bad2dba82b\">\n",
              "      <button class=\"colab-df-quickchart\" onclick=\"quickchart('df-41701209-42b6-45e8-aed8-c8bad2dba82b')\"\n",
              "              title=\"Suggest charts.\"\n",
              "              style=\"display:none;\">\n",
              "\n",
              "<svg xmlns=\"http://www.w3.org/2000/svg\" height=\"24px\"viewBox=\"0 0 24 24\"\n",
              "     width=\"24px\">\n",
              "    <g>\n",
              "        <path d=\"M19 3H5c-1.1 0-2 .9-2 2v14c0 1.1.9 2 2 2h14c1.1 0 2-.9 2-2V5c0-1.1-.9-2-2-2zM9 17H7v-7h2v7zm4 0h-2V7h2v10zm4 0h-2v-4h2v4z\"/>\n",
              "    </g>\n",
              "</svg>\n",
              "      </button>\n",
              "    </div>\n",
              "\n",
              "<style>\n",
              "  .colab-df-quickchart {\n",
              "    background-color: #E8F0FE;\n",
              "    border: none;\n",
              "    border-radius: 50%;\n",
              "    cursor: pointer;\n",
              "    display: none;\n",
              "    fill: #1967D2;\n",
              "    height: 32px;\n",
              "    padding: 0 0 0 0;\n",
              "    width: 32px;\n",
              "  }\n",
              "\n",
              "  .colab-df-quickchart:hover {\n",
              "    background-color: #E2EBFA;\n",
              "    box-shadow: 0px 1px 2px rgba(60, 64, 67, 0.3), 0px 1px 3px 1px rgba(60, 64, 67, 0.15);\n",
              "    fill: #174EA6;\n",
              "  }\n",
              "\n",
              "  [theme=dark] .colab-df-quickchart {\n",
              "    background-color: #3B4455;\n",
              "    fill: #D2E3FC;\n",
              "  }\n",
              "\n",
              "  [theme=dark] .colab-df-quickchart:hover {\n",
              "    background-color: #434B5C;\n",
              "    box-shadow: 0px 1px 3px 1px rgba(0, 0, 0, 0.15);\n",
              "    filter: drop-shadow(0px 1px 2px rgba(0, 0, 0, 0.3));\n",
              "    fill: #FFFFFF;\n",
              "  }\n",
              "</style>\n",
              "\n",
              "    <script>\n",
              "      async function quickchart(key) {\n",
              "        const containerElement = document.querySelector('#' + key);\n",
              "        const charts = await google.colab.kernel.invokeFunction(\n",
              "            'suggestCharts', [key], {});\n",
              "      }\n",
              "    </script>\n",
              "\n",
              "      <script>\n",
              "\n",
              "function displayQuickchartButton(domScope) {\n",
              "  let quickchartButtonEl =\n",
              "    domScope.querySelector('#df-41701209-42b6-45e8-aed8-c8bad2dba82b button.colab-df-quickchart');\n",
              "  quickchartButtonEl.style.display =\n",
              "    google.colab.kernel.accessAllowed ? 'block' : 'none';\n",
              "}\n",
              "\n",
              "        displayQuickchartButton(document);\n",
              "      </script>\n",
              "      <style>\n",
              "    .colab-df-container {\n",
              "      display:flex;\n",
              "      flex-wrap:wrap;\n",
              "      gap: 12px;\n",
              "    }\n",
              "\n",
              "    .colab-df-convert {\n",
              "      background-color: #E8F0FE;\n",
              "      border: none;\n",
              "      border-radius: 50%;\n",
              "      cursor: pointer;\n",
              "      display: none;\n",
              "      fill: #1967D2;\n",
              "      height: 32px;\n",
              "      padding: 0 0 0 0;\n",
              "      width: 32px;\n",
              "    }\n",
              "\n",
              "    .colab-df-convert:hover {\n",
              "      background-color: #E2EBFA;\n",
              "      box-shadow: 0px 1px 2px rgba(60, 64, 67, 0.3), 0px 1px 3px 1px rgba(60, 64, 67, 0.15);\n",
              "      fill: #174EA6;\n",
              "    }\n",
              "\n",
              "    [theme=dark] .colab-df-convert {\n",
              "      background-color: #3B4455;\n",
              "      fill: #D2E3FC;\n",
              "    }\n",
              "\n",
              "    [theme=dark] .colab-df-convert:hover {\n",
              "      background-color: #434B5C;\n",
              "      box-shadow: 0px 1px 3px 1px rgba(0, 0, 0, 0.15);\n",
              "      filter: drop-shadow(0px 1px 2px rgba(0, 0, 0, 0.3));\n",
              "      fill: #FFFFFF;\n",
              "    }\n",
              "  </style>\n",
              "\n",
              "      <script>\n",
              "        const buttonEl =\n",
              "          document.querySelector('#df-9343bc54-2d52-4c9f-9ee2-87691fe608be button.colab-df-convert');\n",
              "        buttonEl.style.display =\n",
              "          google.colab.kernel.accessAllowed ? 'block' : 'none';\n",
              "\n",
              "        async function convertToInteractive(key) {\n",
              "          const element = document.querySelector('#df-9343bc54-2d52-4c9f-9ee2-87691fe608be');\n",
              "          const dataTable =\n",
              "            await google.colab.kernel.invokeFunction('convertToInteractive',\n",
              "                                                     [key], {});\n",
              "          if (!dataTable) return;\n",
              "\n",
              "          const docLinkHtml = 'Like what you see? Visit the ' +\n",
              "            '<a target=\"_blank\" href=https://colab.research.google.com/notebooks/data_table.ipynb>data table notebook</a>'\n",
              "            + ' to learn more about interactive tables.';\n",
              "          element.innerHTML = '';\n",
              "          dataTable['output_type'] = 'display_data';\n",
              "          await google.colab.output.renderOutput(dataTable, element);\n",
              "          const docLink = document.createElement('div');\n",
              "          docLink.innerHTML = docLinkHtml;\n",
              "          element.appendChild(docLink);\n",
              "        }\n",
              "      </script>\n",
              "    </div>\n",
              "  </div>\n"
            ]
          },
          "metadata": {},
          "execution_count": 4
        }
      ]
    },
    {
      "cell_type": "markdown",
      "source": [
        "## The question\n",
        "\n",
        "🕵️ Do the aggreate statistics Alice shares actually provide enough information to reconstruct the individual rows of the database she intends to keep private?"
      ],
      "metadata": {
        "id": "gl6rYsvlpp0o"
      }
    },
    {
      "cell_type": "markdown",
      "source": [
        "#OR-Tools CP-SAT model\n",
        "\n",
        "⚛️ To use the CP-SAT solver, we first define a **model**. The model contains a collection of **variables** and **constraints**. The constraints determine the possible values of the variables.\n",
        "\n",
        "🔢 We define **variables** as containers for the values in the original database. We infer the columns include age, an integer, and a number of classes based on the statistics that were shared - married, smoker and employed, Booleans. The number of rows will equal the global count statistic. We define a variable for each cell.\n",
        "\n",
        "🆗 We define **constraints** inferred from the aggregate statistics. The constraints take various forms based on what we can infer from the statistics.\n",
        "\n",
        "🎯 When we are able to **solve the model** (below), the values of the variables will enable us to reconstruct the private database.\n"
      ],
      "metadata": {
        "id": "LmPfGZ5M5CVT"
      }
    },
    {
      "cell_type": "markdown",
      "source": [
        "## Model and variables\n",
        "\n",
        "In the definition of the age variable, we constrain ages to be from 👶 0 to 🧓 115."
      ],
      "metadata": {
        "id": "7KxbIYSpxas8"
      }
    },
    {
      "cell_type": "code",
      "source": [
        "def init_model(global_stat):\n",
        "  # initialise the constraint programming model\n",
        "  return cp_model.CpModel()"
      ],
      "metadata": {
        "id": "7JNHhSi6rvOd"
      },
      "execution_count": 5,
      "outputs": []
    },
    {
      "cell_type": "code",
      "source": [
        "def add_age_variables(model, global_stat, vmin=0, vmax=115):\n",
        "  # add variables to represent each row in the age column\n",
        "  rows = range(global_stat.count)\n",
        "  return [model.NewIntVar(vmin, vmax, f'age_{i}') for i in rows]"
      ],
      "metadata": {
        "id": "AMM1E5MmkI7F"
      },
      "execution_count": 6,
      "outputs": []
    },
    {
      "cell_type": "code",
      "source": [
        "def add_class_variables(model, class_stat, global_stat):\n",
        "  # add variables to represent each row in one of the class columns\n",
        "  rows = range(global_stat.count)\n",
        "  return [model.NewBoolVar(f'class_{class_stat.name}_{i}') for i in rows]"
      ],
      "metadata": {
        "id": "CCcuuMxMj6ZY"
      },
      "execution_count": 7,
      "outputs": []
    },
    {
      "cell_type": "markdown",
      "source": [
        "🎬 We initialise the model and add age variables. We'll add class variables later."
      ],
      "metadata": {
        "id": "JoS5YWdOm1PI"
      }
    },
    {
      "cell_type": "code",
      "source": [
        "model = init_model(stats.A1)\n",
        "ages = add_age_variables(model, stats.A1)"
      ],
      "metadata": {
        "id": "Mw3wAsymyWJ7"
      },
      "execution_count": 8,
      "outputs": []
    },
    {
      "cell_type": "markdown",
      "source": [
        "##Global statistic constraints 🌏\n",
        "\n",
        "🆗 We define constraints to ensure values are sorted, have a specified median (which assumes sorted), and specified mean."
      ],
      "metadata": {
        "id": "ORavi24oy4J8"
      }
    },
    {
      "cell_type": "code",
      "source": [
        "def add_sorted_constraint(model, values):\n",
        "  # require that the list of values is sorted\n",
        "  for k in zip(values[:-1], values[1:]):\n",
        "    model.Add(k[0] <= k[1])"
      ],
      "metadata": {
        "id": "FRC_OQB6xBhR"
      },
      "execution_count": 9,
      "outputs": []
    },
    {
      "cell_type": "code",
      "source": [
        "def add_median_constraint(model, values, median):\n",
        "  # require that the middle value in the list is equal to the specified median\n",
        "  # assumes that the list is sorted\n",
        "  mid = len(values) // 2\n",
        "  constraint = model.Add(values[mid - 1] + values[mid] == median * 2) \\\n",
        "    if len(values) % 2 == 0 \\\n",
        "    else model.Add(values[mid] == median)\n",
        "  return constraint"
      ],
      "metadata": {
        "id": "ByLfVrJ3sZlf"
      },
      "execution_count": 10,
      "outputs": []
    },
    {
      "cell_type": "code",
      "source": [
        "def add_mean_constraint(model, values, mean, denom):\n",
        "  # require that the calculated mean of the values is equal to the specified mean,\n",
        "  # if an integer, or falls between the two adjacent integers, if rational\n",
        "  denominator = denom if denom is not None else 1\n",
        "  mean_lb = mean // denominator\n",
        "  interval_width = 1 if denom is not None else 0\n",
        "  mean_ub = mean_lb + interval_width\n",
        "  constraint_lb = model.Add(sum(values) >= len(values) * mean_lb)\n",
        "  constraint_ub = model.Add(sum(values) <= len(values) * mean_ub)\n",
        "  return constraint_lb, constraint_ub"
      ],
      "metadata": {
        "id": "RXT7tLfbvhRy"
      },
      "execution_count": 11,
      "outputs": []
    },
    {
      "cell_type": "code",
      "source": [
        "def add_global_stat_constraint(model, values, global_stat):\n",
        "  # add constraints inferred from the global statistic\n",
        "  add_sorted_constraint(model, values)\n",
        "  add_median_constraint(model, values, global_stat.median)\n",
        "  add_mean_constraint(model, values, global_stat.mean, global_stat.denom)"
      ],
      "metadata": {
        "id": "Io5f8tuCNvkO"
      },
      "execution_count": 12,
      "outputs": []
    },
    {
      "cell_type": "markdown",
      "source": [
        "✅ We add these constraints to the model. Now the databse values must satisfy the constraints resulting from the global statistic A1."
      ],
      "metadata": {
        "id": "WjXGCVoohR4k"
      }
    },
    {
      "cell_type": "code",
      "source": [
        "add_global_stat_constraint(model, ages, stats.A1)"
      ],
      "metadata": {
        "id": "s5RMjyEq3Cg0"
      },
      "execution_count": 13,
      "outputs": []
    },
    {
      "cell_type": "markdown",
      "source": [
        "## Class and cohort statistic constraints 👪\n",
        "\n",
        "🔀 Most of the statistics are for cohorts rather than the global population. We don't know exactly which records make up the cohort though, so we're going to explore every possible cohort for a statistic, using `itertools.combinations`."
      ],
      "metadata": {
        "id": "So3hdYkf3gaP"
      }
    },
    {
      "cell_type": "code",
      "source": [
        "def get_cohorts(global_count, cohort_count):\n",
        "  # enumerate the population and each cohort that could be selected\n",
        "  # according to the global count, and cohort count\n",
        "  population = list(range(global_count))\n",
        "  cohorts = list(it.combinations(population, cohort_count))\n",
        "  return population, cohorts"
      ],
      "metadata": {
        "id": "ix1jbaJq6bOr"
      },
      "execution_count": 14,
      "outputs": []
    },
    {
      "cell_type": "markdown",
      "source": [
        "🔗 We add a link variable that allows us to specifically enforce the constraints for each possible cohort combination. We're using the channelling technique described at https://developers.google.com/optimization/cp/channeling"
      ],
      "metadata": {
        "id": "WBPwgxahp1tN"
      }
    },
    {
      "cell_type": "code",
      "source": [
        "def add_combination_link_variables(model, class_stat, cohorts):\n",
        "  # add a channeling link variable for each combination of cohort for the statistic\n",
        "  combinations = range(len(cohorts))\n",
        "  return [model.NewBoolVar(f'combn_{class_stat.name}_{j}') for j in combinations]"
      ],
      "metadata": {
        "id": "olRFc37xpNOb"
      },
      "execution_count": 15,
      "outputs": []
    },
    {
      "cell_type": "markdown",
      "source": [
        "🆗 We add constraints to ensure that only one link variable (cohort combination) may be active, and that this activation causes the correct cohort combination to be considered."
      ],
      "metadata": {
        "id": "RsIwGiHOpFgk"
      }
    },
    {
      "cell_type": "code",
      "source": [
        "def add_combination_constraints(model, classes, combination_links, cohorts, count):\n",
        "  # require that one cohort combination is considered for class statistics requirements\n",
        "  model.Add(sum(classes) == count)\n",
        "  model.Add(sum(combination_links) == 1)\n",
        "  for j, cohort in enumerate(cohorts):\n",
        "    cohort_classes = [c for i, c in enumerate(classes) if i in cohort]\n",
        "    model.Add(sum(cohort_classes) == count).OnlyEnforceIf(combination_links[j])"
      ],
      "metadata": {
        "id": "ZFZjYLd10evn"
      },
      "execution_count": 16,
      "outputs": []
    },
    {
      "cell_type": "markdown",
      "source": [
        "🆗 We can extend our median and mean constraints to be applied to one cohort combination."
      ],
      "metadata": {
        "id": "VrUyKlILrIaw"
      }
    },
    {
      "cell_type": "code",
      "source": [
        "def add_median_constraint_cohort(model, values, median, link):\n",
        "  # require the median of values only if link is activated\n",
        "  constraint = add_median_constraint(model, values, median)\n",
        "  constraint.OnlyEnforceIf(link)"
      ],
      "metadata": {
        "id": "2Kvv8-wbzzf4"
      },
      "execution_count": 17,
      "outputs": []
    },
    {
      "cell_type": "code",
      "source": [
        "def add_mean_constraint_cohort(model, values, mean, denom, link):\n",
        "  # require the mean (rational over denom) of values only if link is activated\n",
        "  constraint_lb, constraint_ub = add_mean_constraint(model, values, mean, denom)\n",
        "  constraint_lb.OnlyEnforceIf(link)\n",
        "  constraint_ub.OnlyEnforceIf(link)"
      ],
      "metadata": {
        "id": "VAgjgBPj1HFk"
      },
      "execution_count": 18,
      "outputs": []
    },
    {
      "cell_type": "code",
      "source": [
        "def add_cohort_stat_constraints(model, values, links, cohorts, cohort_stat):\n",
        "  # require the cohort statistics for the values in one of the possible cohorts\n",
        "  for j, cohort in enumerate(cohorts):\n",
        "    combn_values = [v for i, v in enumerate(values) if i in cohort]\n",
        "    add_mean_constraint_cohort(model, combn_values, cohort_stat.mean, cohort_stat.denom, links[j])\n",
        "    add_median_constraint_cohort(model, combn_values, cohort_stat.median, links[j])"
      ],
      "metadata": {
        "id": "haeP5GQ88PSD"
      },
      "execution_count": 19,
      "outputs": []
    },
    {
      "cell_type": "markdown",
      "source": [
        "🆗 We may apply all of these constraints in a coordinated manner to require the class statistics apply to the database values. Where statistics come in complementary pairs (positive and negative classes), we apply them together."
      ],
      "metadata": {
        "id": "Fi3OMkIgr_h-"
      }
    },
    {
      "cell_type": "code",
      "source": [
        "def add_class_stat(model, values, global_stat, class_stat, class_neg_stat=None):\n",
        "  # configure variables and constraints to add a class statistic\n",
        "  # class_neg_stat should be a complementary statistic, if it exists\n",
        "  population, cohorts = get_cohorts(global_stat.count, class_stat.count)\n",
        "  classes = add_class_variables(model, class_stat, global_stat)\n",
        "  combination_links = add_combination_link_variables(model, class_stat, cohorts)\n",
        "  add_combination_constraints(model, classes, combination_links, cohorts, class_stat.count)\n",
        "\n",
        "  add_cohort_stat_constraints(model, values, combination_links, cohorts, class_stat)\n",
        "  if class_neg_stat is not None:\n",
        "    neg_cohorts = [sorted(set(population) - set(s)) for s in cohorts]\n",
        "    add_cohort_stat_constraints(model, values, combination_links, neg_cohorts, class_neg_stat)\n",
        "\n",
        "  return classes, combination_links"
      ],
      "metadata": {
        "id": "St1blHeNgghG"
      },
      "execution_count": 20,
      "outputs": []
    },
    {
      "cell_type": "markdown",
      "source": [
        "✅ Apply the actual statistics that were shared."
      ],
      "metadata": {
        "id": "QZiVL7EMs8Jq"
      }
    },
    {
      "cell_type": "code",
      "source": [
        "classes_B3, _ = add_class_stat(model, ages, stats.A1, stats.B3)\n",
        "classes_B2A2, _ = add_class_stat(model, ages, stats.A1, stats.B2, class_neg_stat=stats.A2)\n",
        "classes_D2C2, _ = add_class_stat(model, ages, stats.A1, stats.D2, class_neg_stat=stats.C2)\n",
        "\n",
        "# note we might also add explicit constraints with implicit information from stat A3\n",
        "# but that is not needed to identify a single solution in this case\n",
        "\n",
        "classes = classes_B3 + classes_B2A2 + classes_D2C2"
      ],
      "metadata": {
        "id": "WRAfZhxws3IU"
      },
      "execution_count": 21,
      "outputs": []
    },
    {
      "cell_type": "markdown",
      "source": [
        "## Class cross constraints 👪➕👪\n",
        "\n",
        "➕ One statistic crosses two classes  `A4=Stat(name=\"unemployed-non-smoker\", count=3, median=36, mean=36)`. We use a similar pattern to the single class cohorts, but in this case create links for the cross combinations."
      ],
      "metadata": {
        "id": "tvAY-kattP5b"
      }
    },
    {
      "cell_type": "code",
      "source": [
        "def add_cross_link_variables(model, cross_stat, cohorts):\n",
        "  # add a channeling link variable for each cross combination for the statistic\n",
        "  combinations = range(len(cohorts))\n",
        "  return [model.NewBoolVar(f'cross_{cross_stat.name}_{j}') for j in combinations]"
      ],
      "metadata": {
        "id": "axb9nziHuOWP"
      },
      "execution_count": 22,
      "outputs": []
    },
    {
      "cell_type": "code",
      "source": [
        "def add_cross_stat_constraints(model, crossed_classes, class_neg, cross_links, cohorts, count):\n",
        "  # require the cohort statistics for the values in one of the possible cross cohorts\n",
        "  model.Add(sum(cross_links) == 1)\n",
        "  for j, cohort in enumerate(cohorts):\n",
        "    for k, xcls in enumerate(crossed_classes):\n",
        "      cross_classes = [c for i, c in enumerate(xcls) if i in cohort]\n",
        "      target = 0 if class_neg[k] else count\n",
        "      model.Add(sum(cross_classes) == target).OnlyEnforceIf(cross_links[j])"
      ],
      "metadata": {
        "id": "nyDrPd4KEoKN"
      },
      "execution_count": 23,
      "outputs": []
    },
    {
      "cell_type": "code",
      "source": [
        "def add_cross_stat(model, values, global_stat, cross_stat, crossed_classes, class_neg):\n",
        "  # configure variables and constraints to add a cross statistic\n",
        "  _, cohorts = get_cohorts(global_stat.count, cross_stat.count)\n",
        "  cross_links = add_cross_link_variables(model, cross_stat, cohorts)\n",
        "  add_cross_stat_constraints(model, crossed_classes, class_neg, cross_links, cohorts, cross_stat.count)\n",
        "  add_cohort_stat_constraints(model, values, cross_links, cohorts, cross_stat)\n",
        "  return cross_links"
      ],
      "metadata": {
        "id": "hgcEWl8fwzzr"
      },
      "execution_count": 24,
      "outputs": []
    },
    {
      "cell_type": "markdown",
      "source": [
        "✅ Apply the cross statistics that were shared."
      ],
      "metadata": {
        "id": "r2S5uSK4vYa9"
      }
    },
    {
      "cell_type": "code",
      "source": [
        "crosses = add_cross_stat(model, ages, stats.A1, stats.A4, [classes_B2A2, classes_D2C2], [True, True])"
      ],
      "metadata": {
        "id": "w0d1dZxDvZTR"
      },
      "execution_count": 25,
      "outputs": []
    },
    {
      "cell_type": "markdown",
      "source": [
        "#Solve the model\n",
        "\n",
        "🎯 Now we apply a solver to the defined constraint model to find permissible values for the variables"
      ],
      "metadata": {
        "id": "w7uEBkQfvqc_"
      }
    },
    {
      "cell_type": "markdown",
      "source": [
        "## Solver helpers\n",
        "\n",
        "🦾 These helper classes and methods simplify the OR-Tools interface."
      ],
      "metadata": {
        "id": "Lz7Hnaw5iRae"
      }
    },
    {
      "cell_type": "code",
      "source": [
        "class SolutionAccumulator(cp_model.CpSolverSolutionCallback):\n",
        "\n",
        "    def __init__(self, variables, df, max_solns):\n",
        "        cp_model.CpSolverSolutionCallback.__init__(self)\n",
        "        self.__variables = variables\n",
        "        self.__solution_count = 0\n",
        "        self.__max_solns = max_solns\n",
        "        self.__df = df\n",
        "\n",
        "    def on_solution_callback(self):\n",
        "        self.__df.loc[self.__solution_count] = [self.Value(v) for v in self.__variables]\n",
        "        self.__solution_count += 1\n",
        "        if self.__solution_count >= self.__max_solns:\n",
        "          self.StopSearch()\n",
        "\n",
        "    def solution_count(self):\n",
        "        return self.__solution_count"
      ],
      "metadata": {
        "id": "Q05Mx0Q1CqiJ"
      },
      "execution_count": 26,
      "outputs": []
    },
    {
      "cell_type": "code",
      "source": [
        "def get_dra_solver(model, variables):\n",
        "  # get the solver for database reconstruction\n",
        "  model.AddDecisionStrategy(variables,\n",
        "                            cp_model.CHOOSE_FIRST,\n",
        "                            cp_model.SELECT_MIN_VALUE)\n",
        "  solver = cp_model.CpSolver()\n",
        "  solver.parameters.search_branching = cp_model.FIXED_SEARCH\n",
        "  solver.parameters.enumerate_all_solutions = True\n",
        "  return solver\n",
        "\n",
        "def find_dra_solutions(model, solver, variables, max_solns):\n",
        "  # find possible solutions for database reconstruction\n",
        "  df = pd.DataFrame(columns=[str(v) for v in variables])\n",
        "  solution_logger = SolutionAccumulator(variables, df, max_solns)\n",
        "  solver.Solve(model, solution_logger)\n",
        "  return df"
      ],
      "metadata": {
        "id": "1OuAV3J-fTB4"
      },
      "execution_count": 27,
      "outputs": []
    },
    {
      "cell_type": "markdown",
      "source": [
        "##Run solver\n",
        "\n",
        "🤖 We execute the solver. In general, the solver may find multiple solutions, up to the specified limit. In this instance, the constraints are such that there is only one unique solution. Note that there are about 5*10^20 possible original database configurations, without constraints."
      ],
      "metadata": {
        "id": "5yN1hHUgwYl2"
      }
    },
    {
      "cell_type": "code",
      "source": [
        "solver = get_dra_solver(model, ages + classes)\n",
        "sol_df = find_dra_solutions(model, solver, ages + classes, 500)\n",
        "\n",
        "print(len(sol_df.index))\n",
        "sol_df.head().transpose()"
      ],
      "metadata": {
        "colab": {
          "base_uri": "https://localhost:8080/",
          "height": 945
        },
        "id": "KGuWRBGrfWxS",
        "outputId": "327b5e9f-e694-422c-914f-2ffe325c81ed"
      },
      "execution_count": 28,
      "outputs": [
        {
          "output_type": "stream",
          "name": "stdout",
          "text": [
            "1\n"
          ]
        },
        {
          "output_type": "execute_result",
          "data": {
            "text/plain": [
              "                         0\n",
              "age_0                    8\n",
              "age_1                   18\n",
              "age_2                   24\n",
              "age_3                   30\n",
              "age_4                   36\n",
              "age_5                   66\n",
              "age_6                   84\n",
              "class_married_adults_0   0\n",
              "class_married_adults_1   0\n",
              "class_married_adults_2   0\n",
              "class_married_adults_3   1\n",
              "class_married_adults_4   1\n",
              "class_married_adults_5   1\n",
              "class_married_adults_6   1\n",
              "class_smoker_0           0\n",
              "class_smoker_1           1\n",
              "class_smoker_2           0\n",
              "class_smoker_3           1\n",
              "class_smoker_4           0\n",
              "class_smoker_5           0\n",
              "class_smoker_6           1\n",
              "class_employed_0         0\n",
              "class_employed_1         1\n",
              "class_employed_2         1\n",
              "class_employed_3         1\n",
              "class_employed_4         0\n",
              "class_employed_5         0\n",
              "class_employed_6         0"
            ],
            "text/html": [
              "\n",
              "\n",
              "  <div id=\"df-d059ac4a-c9a5-4313-b9ed-793e846c9602\">\n",
              "    <div class=\"colab-df-container\">\n",
              "      <div>\n",
              "<style scoped>\n",
              "    .dataframe tbody tr th:only-of-type {\n",
              "        vertical-align: middle;\n",
              "    }\n",
              "\n",
              "    .dataframe tbody tr th {\n",
              "        vertical-align: top;\n",
              "    }\n",
              "\n",
              "    .dataframe thead th {\n",
              "        text-align: right;\n",
              "    }\n",
              "</style>\n",
              "<table border=\"1\" class=\"dataframe\">\n",
              "  <thead>\n",
              "    <tr style=\"text-align: right;\">\n",
              "      <th></th>\n",
              "      <th>0</th>\n",
              "    </tr>\n",
              "  </thead>\n",
              "  <tbody>\n",
              "    <tr>\n",
              "      <th>age_0</th>\n",
              "      <td>8</td>\n",
              "    </tr>\n",
              "    <tr>\n",
              "      <th>age_1</th>\n",
              "      <td>18</td>\n",
              "    </tr>\n",
              "    <tr>\n",
              "      <th>age_2</th>\n",
              "      <td>24</td>\n",
              "    </tr>\n",
              "    <tr>\n",
              "      <th>age_3</th>\n",
              "      <td>30</td>\n",
              "    </tr>\n",
              "    <tr>\n",
              "      <th>age_4</th>\n",
              "      <td>36</td>\n",
              "    </tr>\n",
              "    <tr>\n",
              "      <th>age_5</th>\n",
              "      <td>66</td>\n",
              "    </tr>\n",
              "    <tr>\n",
              "      <th>age_6</th>\n",
              "      <td>84</td>\n",
              "    </tr>\n",
              "    <tr>\n",
              "      <th>class_married_adults_0</th>\n",
              "      <td>0</td>\n",
              "    </tr>\n",
              "    <tr>\n",
              "      <th>class_married_adults_1</th>\n",
              "      <td>0</td>\n",
              "    </tr>\n",
              "    <tr>\n",
              "      <th>class_married_adults_2</th>\n",
              "      <td>0</td>\n",
              "    </tr>\n",
              "    <tr>\n",
              "      <th>class_married_adults_3</th>\n",
              "      <td>1</td>\n",
              "    </tr>\n",
              "    <tr>\n",
              "      <th>class_married_adults_4</th>\n",
              "      <td>1</td>\n",
              "    </tr>\n",
              "    <tr>\n",
              "      <th>class_married_adults_5</th>\n",
              "      <td>1</td>\n",
              "    </tr>\n",
              "    <tr>\n",
              "      <th>class_married_adults_6</th>\n",
              "      <td>1</td>\n",
              "    </tr>\n",
              "    <tr>\n",
              "      <th>class_smoker_0</th>\n",
              "      <td>0</td>\n",
              "    </tr>\n",
              "    <tr>\n",
              "      <th>class_smoker_1</th>\n",
              "      <td>1</td>\n",
              "    </tr>\n",
              "    <tr>\n",
              "      <th>class_smoker_2</th>\n",
              "      <td>0</td>\n",
              "    </tr>\n",
              "    <tr>\n",
              "      <th>class_smoker_3</th>\n",
              "      <td>1</td>\n",
              "    </tr>\n",
              "    <tr>\n",
              "      <th>class_smoker_4</th>\n",
              "      <td>0</td>\n",
              "    </tr>\n",
              "    <tr>\n",
              "      <th>class_smoker_5</th>\n",
              "      <td>0</td>\n",
              "    </tr>\n",
              "    <tr>\n",
              "      <th>class_smoker_6</th>\n",
              "      <td>1</td>\n",
              "    </tr>\n",
              "    <tr>\n",
              "      <th>class_employed_0</th>\n",
              "      <td>0</td>\n",
              "    </tr>\n",
              "    <tr>\n",
              "      <th>class_employed_1</th>\n",
              "      <td>1</td>\n",
              "    </tr>\n",
              "    <tr>\n",
              "      <th>class_employed_2</th>\n",
              "      <td>1</td>\n",
              "    </tr>\n",
              "    <tr>\n",
              "      <th>class_employed_3</th>\n",
              "      <td>1</td>\n",
              "    </tr>\n",
              "    <tr>\n",
              "      <th>class_employed_4</th>\n",
              "      <td>0</td>\n",
              "    </tr>\n",
              "    <tr>\n",
              "      <th>class_employed_5</th>\n",
              "      <td>0</td>\n",
              "    </tr>\n",
              "    <tr>\n",
              "      <th>class_employed_6</th>\n",
              "      <td>0</td>\n",
              "    </tr>\n",
              "  </tbody>\n",
              "</table>\n",
              "</div>\n",
              "      <button class=\"colab-df-convert\" onclick=\"convertToInteractive('df-d059ac4a-c9a5-4313-b9ed-793e846c9602')\"\n",
              "              title=\"Convert this dataframe to an interactive table.\"\n",
              "              style=\"display:none;\">\n",
              "\n",
              "  <svg xmlns=\"http://www.w3.org/2000/svg\" height=\"24px\"viewBox=\"0 0 24 24\"\n",
              "       width=\"24px\">\n",
              "    <path d=\"M0 0h24v24H0V0z\" fill=\"none\"/>\n",
              "    <path d=\"M18.56 5.44l.94 2.06.94-2.06 2.06-.94-2.06-.94-.94-2.06-.94 2.06-2.06.94zm-11 1L8.5 8.5l.94-2.06 2.06-.94-2.06-.94L8.5 2.5l-.94 2.06-2.06.94zm10 10l.94 2.06.94-2.06 2.06-.94-2.06-.94-.94-2.06-.94 2.06-2.06.94z\"/><path d=\"M17.41 7.96l-1.37-1.37c-.4-.4-.92-.59-1.43-.59-.52 0-1.04.2-1.43.59L10.3 9.45l-7.72 7.72c-.78.78-.78 2.05 0 2.83L4 21.41c.39.39.9.59 1.41.59.51 0 1.02-.2 1.41-.59l7.78-7.78 2.81-2.81c.8-.78.8-2.07 0-2.86zM5.41 20L4 18.59l7.72-7.72 1.47 1.35L5.41 20z\"/>\n",
              "  </svg>\n",
              "      </button>\n",
              "\n",
              "\n",
              "\n",
              "    <div id=\"df-cc75d87b-87c4-4882-8daa-37f60ea8b690\">\n",
              "      <button class=\"colab-df-quickchart\" onclick=\"quickchart('df-cc75d87b-87c4-4882-8daa-37f60ea8b690')\"\n",
              "              title=\"Suggest charts.\"\n",
              "              style=\"display:none;\">\n",
              "\n",
              "<svg xmlns=\"http://www.w3.org/2000/svg\" height=\"24px\"viewBox=\"0 0 24 24\"\n",
              "     width=\"24px\">\n",
              "    <g>\n",
              "        <path d=\"M19 3H5c-1.1 0-2 .9-2 2v14c0 1.1.9 2 2 2h14c1.1 0 2-.9 2-2V5c0-1.1-.9-2-2-2zM9 17H7v-7h2v7zm4 0h-2V7h2v10zm4 0h-2v-4h2v4z\"/>\n",
              "    </g>\n",
              "</svg>\n",
              "      </button>\n",
              "    </div>\n",
              "\n",
              "<style>\n",
              "  .colab-df-quickchart {\n",
              "    background-color: #E8F0FE;\n",
              "    border: none;\n",
              "    border-radius: 50%;\n",
              "    cursor: pointer;\n",
              "    display: none;\n",
              "    fill: #1967D2;\n",
              "    height: 32px;\n",
              "    padding: 0 0 0 0;\n",
              "    width: 32px;\n",
              "  }\n",
              "\n",
              "  .colab-df-quickchart:hover {\n",
              "    background-color: #E2EBFA;\n",
              "    box-shadow: 0px 1px 2px rgba(60, 64, 67, 0.3), 0px 1px 3px 1px rgba(60, 64, 67, 0.15);\n",
              "    fill: #174EA6;\n",
              "  }\n",
              "\n",
              "  [theme=dark] .colab-df-quickchart {\n",
              "    background-color: #3B4455;\n",
              "    fill: #D2E3FC;\n",
              "  }\n",
              "\n",
              "  [theme=dark] .colab-df-quickchart:hover {\n",
              "    background-color: #434B5C;\n",
              "    box-shadow: 0px 1px 3px 1px rgba(0, 0, 0, 0.15);\n",
              "    filter: drop-shadow(0px 1px 2px rgba(0, 0, 0, 0.3));\n",
              "    fill: #FFFFFF;\n",
              "  }\n",
              "</style>\n",
              "\n",
              "    <script>\n",
              "      async function quickchart(key) {\n",
              "        const containerElement = document.querySelector('#' + key);\n",
              "        const charts = await google.colab.kernel.invokeFunction(\n",
              "            'suggestCharts', [key], {});\n",
              "      }\n",
              "    </script>\n",
              "\n",
              "      <script>\n",
              "\n",
              "function displayQuickchartButton(domScope) {\n",
              "  let quickchartButtonEl =\n",
              "    domScope.querySelector('#df-cc75d87b-87c4-4882-8daa-37f60ea8b690 button.colab-df-quickchart');\n",
              "  quickchartButtonEl.style.display =\n",
              "    google.colab.kernel.accessAllowed ? 'block' : 'none';\n",
              "}\n",
              "\n",
              "        displayQuickchartButton(document);\n",
              "      </script>\n",
              "      <style>\n",
              "    .colab-df-container {\n",
              "      display:flex;\n",
              "      flex-wrap:wrap;\n",
              "      gap: 12px;\n",
              "    }\n",
              "\n",
              "    .colab-df-convert {\n",
              "      background-color: #E8F0FE;\n",
              "      border: none;\n",
              "      border-radius: 50%;\n",
              "      cursor: pointer;\n",
              "      display: none;\n",
              "      fill: #1967D2;\n",
              "      height: 32px;\n",
              "      padding: 0 0 0 0;\n",
              "      width: 32px;\n",
              "    }\n",
              "\n",
              "    .colab-df-convert:hover {\n",
              "      background-color: #E2EBFA;\n",
              "      box-shadow: 0px 1px 2px rgba(60, 64, 67, 0.3), 0px 1px 3px 1px rgba(60, 64, 67, 0.15);\n",
              "      fill: #174EA6;\n",
              "    }\n",
              "\n",
              "    [theme=dark] .colab-df-convert {\n",
              "      background-color: #3B4455;\n",
              "      fill: #D2E3FC;\n",
              "    }\n",
              "\n",
              "    [theme=dark] .colab-df-convert:hover {\n",
              "      background-color: #434B5C;\n",
              "      box-shadow: 0px 1px 3px 1px rgba(0, 0, 0, 0.15);\n",
              "      filter: drop-shadow(0px 1px 2px rgba(0, 0, 0, 0.3));\n",
              "      fill: #FFFFFF;\n",
              "    }\n",
              "  </style>\n",
              "\n",
              "      <script>\n",
              "        const buttonEl =\n",
              "          document.querySelector('#df-d059ac4a-c9a5-4313-b9ed-793e846c9602 button.colab-df-convert');\n",
              "        buttonEl.style.display =\n",
              "          google.colab.kernel.accessAllowed ? 'block' : 'none';\n",
              "\n",
              "        async function convertToInteractive(key) {\n",
              "          const element = document.querySelector('#df-d059ac4a-c9a5-4313-b9ed-793e846c9602');\n",
              "          const dataTable =\n",
              "            await google.colab.kernel.invokeFunction('convertToInteractive',\n",
              "                                                     [key], {});\n",
              "          if (!dataTable) return;\n",
              "\n",
              "          const docLinkHtml = 'Like what you see? Visit the ' +\n",
              "            '<a target=\"_blank\" href=https://colab.research.google.com/notebooks/data_table.ipynb>data table notebook</a>'\n",
              "            + ' to learn more about interactive tables.';\n",
              "          element.innerHTML = '';\n",
              "          dataTable['output_type'] = 'display_data';\n",
              "          await google.colab.output.renderOutput(dataTable, element);\n",
              "          const docLink = document.createElement('div');\n",
              "          docLink.innerHTML = docLinkHtml;\n",
              "          element.appendChild(docLink);\n",
              "        }\n",
              "      </script>\n",
              "    </div>\n",
              "  </div>\n"
            ]
          },
          "metadata": {},
          "execution_count": 28
        }
      ]
    },
    {
      "cell_type": "markdown",
      "source": [
        "# Evaluate solutions\n",
        "\n",
        "⚖️ Compare reconstructed solutions to the original private database"
      ],
      "metadata": {
        "id": "JUohSZmDSu5j"
      }
    },
    {
      "cell_type": "code",
      "source": [
        "def reconstruct_original_from_solution(df, solution_id):\n",
        "  # reconstruct the original database from the solution variable values\n",
        "  rows = stats.A1.count\n",
        "  ages = list(df.iloc[solution_id, 0:rows])\n",
        "  married = list(df.iloc[solution_id, rows:2*rows].astype(bool))\n",
        "  smoker = list(df.iloc[solution_id, 2*rows:3*rows].astype(bool))\n",
        "  employed = list(df.iloc[solution_id, 3*rows:4*rows].astype(bool))\n",
        "\n",
        "  reconstructed = pd.DataFrame([ages, married, smoker, employed]).transpose()\n",
        "  reconstructed.columns = (\"age\", \"married\", \"smoker\", \"employed\")\n",
        "  return reconstructed"
      ],
      "metadata": {
        "id": "lYGElfMFqcGH"
      },
      "execution_count": 29,
      "outputs": []
    },
    {
      "cell_type": "code",
      "source": [
        "reconstructed = reconstruct_original_from_solution(sol_df, 0)\n",
        "reconstructed"
      ],
      "metadata": {
        "colab": {
          "base_uri": "https://localhost:8080/",
          "height": 269
        },
        "id": "xsr6HL8fuN_u",
        "outputId": "6f059fa7-94ab-4816-d178-6ae0a138f49c"
      },
      "execution_count": 30,
      "outputs": [
        {
          "output_type": "execute_result",
          "data": {
            "text/plain": [
              "  age married smoker employed\n",
              "0   8   False  False    False\n",
              "1  18   False   True     True\n",
              "2  24   False  False     True\n",
              "3  30    True   True     True\n",
              "4  36    True  False    False\n",
              "5  66    True  False    False\n",
              "6  84    True   True    False"
            ],
            "text/html": [
              "\n",
              "\n",
              "  <div id=\"df-4901f693-0d46-40a0-b469-03a71c18f970\">\n",
              "    <div class=\"colab-df-container\">\n",
              "      <div>\n",
              "<style scoped>\n",
              "    .dataframe tbody tr th:only-of-type {\n",
              "        vertical-align: middle;\n",
              "    }\n",
              "\n",
              "    .dataframe tbody tr th {\n",
              "        vertical-align: top;\n",
              "    }\n",
              "\n",
              "    .dataframe thead th {\n",
              "        text-align: right;\n",
              "    }\n",
              "</style>\n",
              "<table border=\"1\" class=\"dataframe\">\n",
              "  <thead>\n",
              "    <tr style=\"text-align: right;\">\n",
              "      <th></th>\n",
              "      <th>age</th>\n",
              "      <th>married</th>\n",
              "      <th>smoker</th>\n",
              "      <th>employed</th>\n",
              "    </tr>\n",
              "  </thead>\n",
              "  <tbody>\n",
              "    <tr>\n",
              "      <th>0</th>\n",
              "      <td>8</td>\n",
              "      <td>False</td>\n",
              "      <td>False</td>\n",
              "      <td>False</td>\n",
              "    </tr>\n",
              "    <tr>\n",
              "      <th>1</th>\n",
              "      <td>18</td>\n",
              "      <td>False</td>\n",
              "      <td>True</td>\n",
              "      <td>True</td>\n",
              "    </tr>\n",
              "    <tr>\n",
              "      <th>2</th>\n",
              "      <td>24</td>\n",
              "      <td>False</td>\n",
              "      <td>False</td>\n",
              "      <td>True</td>\n",
              "    </tr>\n",
              "    <tr>\n",
              "      <th>3</th>\n",
              "      <td>30</td>\n",
              "      <td>True</td>\n",
              "      <td>True</td>\n",
              "      <td>True</td>\n",
              "    </tr>\n",
              "    <tr>\n",
              "      <th>4</th>\n",
              "      <td>36</td>\n",
              "      <td>True</td>\n",
              "      <td>False</td>\n",
              "      <td>False</td>\n",
              "    </tr>\n",
              "    <tr>\n",
              "      <th>5</th>\n",
              "      <td>66</td>\n",
              "      <td>True</td>\n",
              "      <td>False</td>\n",
              "      <td>False</td>\n",
              "    </tr>\n",
              "    <tr>\n",
              "      <th>6</th>\n",
              "      <td>84</td>\n",
              "      <td>True</td>\n",
              "      <td>True</td>\n",
              "      <td>False</td>\n",
              "    </tr>\n",
              "  </tbody>\n",
              "</table>\n",
              "</div>\n",
              "      <button class=\"colab-df-convert\" onclick=\"convertToInteractive('df-4901f693-0d46-40a0-b469-03a71c18f970')\"\n",
              "              title=\"Convert this dataframe to an interactive table.\"\n",
              "              style=\"display:none;\">\n",
              "\n",
              "  <svg xmlns=\"http://www.w3.org/2000/svg\" height=\"24px\"viewBox=\"0 0 24 24\"\n",
              "       width=\"24px\">\n",
              "    <path d=\"M0 0h24v24H0V0z\" fill=\"none\"/>\n",
              "    <path d=\"M18.56 5.44l.94 2.06.94-2.06 2.06-.94-2.06-.94-.94-2.06-.94 2.06-2.06.94zm-11 1L8.5 8.5l.94-2.06 2.06-.94-2.06-.94L8.5 2.5l-.94 2.06-2.06.94zm10 10l.94 2.06.94-2.06 2.06-.94-2.06-.94-.94-2.06-.94 2.06-2.06.94z\"/><path d=\"M17.41 7.96l-1.37-1.37c-.4-.4-.92-.59-1.43-.59-.52 0-1.04.2-1.43.59L10.3 9.45l-7.72 7.72c-.78.78-.78 2.05 0 2.83L4 21.41c.39.39.9.59 1.41.59.51 0 1.02-.2 1.41-.59l7.78-7.78 2.81-2.81c.8-.78.8-2.07 0-2.86zM5.41 20L4 18.59l7.72-7.72 1.47 1.35L5.41 20z\"/>\n",
              "  </svg>\n",
              "      </button>\n",
              "\n",
              "\n",
              "\n",
              "    <div id=\"df-e8a31e46-f61e-4a84-b493-03395df5bdbc\">\n",
              "      <button class=\"colab-df-quickchart\" onclick=\"quickchart('df-e8a31e46-f61e-4a84-b493-03395df5bdbc')\"\n",
              "              title=\"Suggest charts.\"\n",
              "              style=\"display:none;\">\n",
              "\n",
              "<svg xmlns=\"http://www.w3.org/2000/svg\" height=\"24px\"viewBox=\"0 0 24 24\"\n",
              "     width=\"24px\">\n",
              "    <g>\n",
              "        <path d=\"M19 3H5c-1.1 0-2 .9-2 2v14c0 1.1.9 2 2 2h14c1.1 0 2-.9 2-2V5c0-1.1-.9-2-2-2zM9 17H7v-7h2v7zm4 0h-2V7h2v10zm4 0h-2v-4h2v4z\"/>\n",
              "    </g>\n",
              "</svg>\n",
              "      </button>\n",
              "    </div>\n",
              "\n",
              "<style>\n",
              "  .colab-df-quickchart {\n",
              "    background-color: #E8F0FE;\n",
              "    border: none;\n",
              "    border-radius: 50%;\n",
              "    cursor: pointer;\n",
              "    display: none;\n",
              "    fill: #1967D2;\n",
              "    height: 32px;\n",
              "    padding: 0 0 0 0;\n",
              "    width: 32px;\n",
              "  }\n",
              "\n",
              "  .colab-df-quickchart:hover {\n",
              "    background-color: #E2EBFA;\n",
              "    box-shadow: 0px 1px 2px rgba(60, 64, 67, 0.3), 0px 1px 3px 1px rgba(60, 64, 67, 0.15);\n",
              "    fill: #174EA6;\n",
              "  }\n",
              "\n",
              "  [theme=dark] .colab-df-quickchart {\n",
              "    background-color: #3B4455;\n",
              "    fill: #D2E3FC;\n",
              "  }\n",
              "\n",
              "  [theme=dark] .colab-df-quickchart:hover {\n",
              "    background-color: #434B5C;\n",
              "    box-shadow: 0px 1px 3px 1px rgba(0, 0, 0, 0.15);\n",
              "    filter: drop-shadow(0px 1px 2px rgba(0, 0, 0, 0.3));\n",
              "    fill: #FFFFFF;\n",
              "  }\n",
              "</style>\n",
              "\n",
              "    <script>\n",
              "      async function quickchart(key) {\n",
              "        const containerElement = document.querySelector('#' + key);\n",
              "        const charts = await google.colab.kernel.invokeFunction(\n",
              "            'suggestCharts', [key], {});\n",
              "      }\n",
              "    </script>\n",
              "\n",
              "      <script>\n",
              "\n",
              "function displayQuickchartButton(domScope) {\n",
              "  let quickchartButtonEl =\n",
              "    domScope.querySelector('#df-e8a31e46-f61e-4a84-b493-03395df5bdbc button.colab-df-quickchart');\n",
              "  quickchartButtonEl.style.display =\n",
              "    google.colab.kernel.accessAllowed ? 'block' : 'none';\n",
              "}\n",
              "\n",
              "        displayQuickchartButton(document);\n",
              "      </script>\n",
              "      <style>\n",
              "    .colab-df-container {\n",
              "      display:flex;\n",
              "      flex-wrap:wrap;\n",
              "      gap: 12px;\n",
              "    }\n",
              "\n",
              "    .colab-df-convert {\n",
              "      background-color: #E8F0FE;\n",
              "      border: none;\n",
              "      border-radius: 50%;\n",
              "      cursor: pointer;\n",
              "      display: none;\n",
              "      fill: #1967D2;\n",
              "      height: 32px;\n",
              "      padding: 0 0 0 0;\n",
              "      width: 32px;\n",
              "    }\n",
              "\n",
              "    .colab-df-convert:hover {\n",
              "      background-color: #E2EBFA;\n",
              "      box-shadow: 0px 1px 2px rgba(60, 64, 67, 0.3), 0px 1px 3px 1px rgba(60, 64, 67, 0.15);\n",
              "      fill: #174EA6;\n",
              "    }\n",
              "\n",
              "    [theme=dark] .colab-df-convert {\n",
              "      background-color: #3B4455;\n",
              "      fill: #D2E3FC;\n",
              "    }\n",
              "\n",
              "    [theme=dark] .colab-df-convert:hover {\n",
              "      background-color: #434B5C;\n",
              "      box-shadow: 0px 1px 3px 1px rgba(0, 0, 0, 0.15);\n",
              "      filter: drop-shadow(0px 1px 2px rgba(0, 0, 0, 0.3));\n",
              "      fill: #FFFFFF;\n",
              "    }\n",
              "  </style>\n",
              "\n",
              "      <script>\n",
              "        const buttonEl =\n",
              "          document.querySelector('#df-4901f693-0d46-40a0-b469-03a71c18f970 button.colab-df-convert');\n",
              "        buttonEl.style.display =\n",
              "          google.colab.kernel.accessAllowed ? 'block' : 'none';\n",
              "\n",
              "        async function convertToInteractive(key) {\n",
              "          const element = document.querySelector('#df-4901f693-0d46-40a0-b469-03a71c18f970');\n",
              "          const dataTable =\n",
              "            await google.colab.kernel.invokeFunction('convertToInteractive',\n",
              "                                                     [key], {});\n",
              "          if (!dataTable) return;\n",
              "\n",
              "          const docLinkHtml = 'Like what you see? Visit the ' +\n",
              "            '<a target=\"_blank\" href=https://colab.research.google.com/notebooks/data_table.ipynb>data table notebook</a>'\n",
              "            + ' to learn more about interactive tables.';\n",
              "          element.innerHTML = '';\n",
              "          dataTable['output_type'] = 'display_data';\n",
              "          await google.colab.output.renderOutput(dataTable, element);\n",
              "          const docLink = document.createElement('div');\n",
              "          docLink.innerHTML = docLinkHtml;\n",
              "          element.appendChild(docLink);\n",
              "        }\n",
              "      </script>\n",
              "    </div>\n",
              "  </div>\n"
            ]
          },
          "metadata": {},
          "execution_count": 30
        }
      ]
    },
    {
      "cell_type": "code",
      "source": [
        "# check that every value is the same as the original private database\n",
        "np.sum((reconstructed == database[reconstructed.columns]).to_numpy()) == np.size(reconstructed.to_numpy())"
      ],
      "metadata": {
        "colab": {
          "base_uri": "https://localhost:8080/"
        },
        "id": "UOOh0_uNVEM0",
        "outputId": "f137308c-e72a-40e3-c953-b7bb1025b9c2"
      },
      "execution_count": 31,
      "outputs": [
        {
          "output_type": "execute_result",
          "data": {
            "text/plain": [
              "True"
            ]
          },
          "metadata": {},
          "execution_count": 31
        }
      ]
    },
    {
      "cell_type": "markdown",
      "source": [
        "# Further challenges\n",
        "\n",
        "Is there a more elegant solution than creating all those linkage variables?"
      ],
      "metadata": {
        "id": "ciQFolEhJpw4"
      }
    }
  ]
}